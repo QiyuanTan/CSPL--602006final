{
 "cells": [
  {
   "cell_type": "code",
   "execution_count": 5,
   "outputs": [
    {
     "name": "stdout",
     "output_type": "stream",
     "text": [
      "[<remi_test3.Agent object at 0x000002656BB02830>, <remi_test3.Agent object at 0x000002656BB01450>, <remi_test3.Agent object at 0x000002656BB01390>, <remi_test3.Agent object at 0x000002656BB03F70>, <remi_test3.Agent object at 0x000002656BB03820>, <remi_test3.Agent object at 0x000002656BB00310>, <remi_test3.Agent object at 0x000002656BB00280>, <remi_test3.Agent object at 0x000002656BB02830>, <remi_test3.Agent object at 0x000002656BB01450>, <remi_test3.Agent object at 0x000002656BB01390>, <remi_test3.Agent object at 0x000002656BB03F70>, <remi_test3.Agent object at 0x000002656BB03820>, <remi_test3.Agent object at 0x000002656BB00310>, <remi_test3.Agent object at 0x000002656BB00280>, <remi_test3.Agent object at 0x000002656BB023B0>, <remi_test3.Agent object at 0x000002656BB00970>, <remi_test3.Agent object at 0x000002656BB023B0>, <remi_test3.Agent object at 0x000002656BB00970>, <remi_test3.Agent object at 0x000002656BB023B0>, <remi_test3.Agent object at 0x000002656BB00970>, <remi_test3.Agent object at 0x000002656BB03850>, <remi_test3.Agent object at 0x000002656BB03850>, <remi_test3.Agent object at 0x000002656BB03850>, <remi_test3.Agent object at 0x000002656BB03850>, <remi_test3.Agent object at 0x000002656BB03850>]\n"
     ]
    }
   ],
   "source": [
    "import remi_test4\n",
    "\n",
    "env = remi_test4.env(num_good=10, num_adversaries=0, num_obstacles=0, num_food=0, max_cycles=1, num_forests=0,\n",
    "                     render_mode='human')\n",
    "env.reset()"
   ],
   "metadata": {
    "collapsed": false,
    "ExecuteTime": {
     "end_time": "2023-08-04T10:42:38.703112Z",
     "start_time": "2023-08-04T10:42:38.610056Z"
    }
   },
   "id": "74ccd2476b26f1f7"
  },
  {
   "cell_type": "code",
   "execution_count": 6,
   "outputs": [
    {
     "name": "stdout",
     "output_type": "stream",
     "text": [
      "----------step1----------\n"
     ]
    }
   ],
   "source": [
    "steps = 1\n",
    "for agent in env.agent_iter():\n",
    "    if steps % 20 == 0:\n",
    "        print(f'----------step{int(steps / 20)}----------')\n",
    "    observation, reward, termination, truncation, info = env.last()\n",
    "    if termination or truncation:\n",
    "        action = None\n",
    "    else:\n",
    "        action = env.action_space(agent).sample()\n",
    "    # this is where you would insert your policy\n",
    "    env.step(action)\n",
    "    steps += 1\n",
    "    for inf in info:\n",
    "        message_history = info[inf]\n",
    "env.close()"
   ],
   "metadata": {
    "collapsed": false,
    "ExecuteTime": {
     "end_time": "2023-08-04T10:42:38.862073Z",
     "start_time": "2023-08-04T10:42:38.634126700Z"
    }
   },
   "id": "a35596c95fae41e0"
  },
  {
   "cell_type": "code",
   "execution_count": 7,
   "outputs": [
    {
     "data": {
      "text/plain": "     sender receiver\n0   agent_0  agent_5\n0   agent_0  agent_4\n0   agent_1  agent_9\n0   agent_1  agent_8\n0   agent_3  agent_5\n..      ...      ...\n0   agent_5  agent_1\n0   agent_6  agent_7\n0   agent_6  agent_4\n0   agent_8  agent_4\n0   agent_8  agent_7\n\n[105 rows x 2 columns]",
      "text/html": "<div>\n<style scoped>\n    .dataframe tbody tr th:only-of-type {\n        vertical-align: middle;\n    }\n\n    .dataframe tbody tr th {\n        vertical-align: top;\n    }\n\n    .dataframe thead th {\n        text-align: right;\n    }\n</style>\n<table border=\"1\" class=\"dataframe\">\n  <thead>\n    <tr style=\"text-align: right;\">\n      <th></th>\n      <th>sender</th>\n      <th>receiver</th>\n    </tr>\n  </thead>\n  <tbody>\n    <tr>\n      <th>0</th>\n      <td>agent_0</td>\n      <td>agent_5</td>\n    </tr>\n    <tr>\n      <th>0</th>\n      <td>agent_0</td>\n      <td>agent_4</td>\n    </tr>\n    <tr>\n      <th>0</th>\n      <td>agent_1</td>\n      <td>agent_9</td>\n    </tr>\n    <tr>\n      <th>0</th>\n      <td>agent_1</td>\n      <td>agent_8</td>\n    </tr>\n    <tr>\n      <th>0</th>\n      <td>agent_3</td>\n      <td>agent_5</td>\n    </tr>\n    <tr>\n      <th>...</th>\n      <td>...</td>\n      <td>...</td>\n    </tr>\n    <tr>\n      <th>0</th>\n      <td>agent_5</td>\n      <td>agent_1</td>\n    </tr>\n    <tr>\n      <th>0</th>\n      <td>agent_6</td>\n      <td>agent_7</td>\n    </tr>\n    <tr>\n      <th>0</th>\n      <td>agent_6</td>\n      <td>agent_4</td>\n    </tr>\n    <tr>\n      <th>0</th>\n      <td>agent_8</td>\n      <td>agent_4</td>\n    </tr>\n    <tr>\n      <th>0</th>\n      <td>agent_8</td>\n      <td>agent_7</td>\n    </tr>\n  </tbody>\n</table>\n<p>105 rows × 2 columns</p>\n</div>"
     },
     "execution_count": 7,
     "metadata": {},
     "output_type": "execute_result"
    }
   ],
   "source": [
    "message_history.to_csv('message_history.csv', index=False)\n",
    "message_history"
   ],
   "metadata": {
    "collapsed": false,
    "ExecuteTime": {
     "end_time": "2023-08-04T10:42:38.924723300Z",
     "start_time": "2023-08-04T10:42:38.856216Z"
    }
   },
   "id": "93cebddf7f01d650"
  },
  {
   "cell_type": "code",
   "execution_count": 8,
   "outputs": [],
   "source": [
    "context = open('message_history.csv', 'r').read().replace('sender,receiver\\n', '').replace(',', ';').replace('agent_',\n",
    "                                                                                                             '')\n",
    "\n",
    "# write the csv file\n",
    "with open('reformatted_message_history.txt', 'w') as f:\n",
    "    f.write(context)\n",
    "    f.close()"
   ],
   "metadata": {
    "collapsed": false,
    "ExecuteTime": {
     "end_time": "2023-08-04T10:42:38.945198100Z",
     "start_time": "2023-08-04T10:42:38.880697900Z"
    }
   },
   "id": "7566a55cf11a8b38"
  }
 ],
 "metadata": {
  "kernelspec": {
   "display_name": "Python 3",
   "language": "python",
   "name": "python3"
  },
  "language_info": {
   "codemirror_mode": {
    "name": "ipython",
    "version": 2
   },
   "file_extension": ".py",
   "mimetype": "text/x-python",
   "name": "python",
   "nbconvert_exporter": "python",
   "pygments_lexer": "ipython2",
   "version": "2.7.6"
  }
 },
 "nbformat": 4,
 "nbformat_minor": 5
}
