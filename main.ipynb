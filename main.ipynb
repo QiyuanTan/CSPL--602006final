{
 "cells": [
  {
   "cell_type": "code",
   "execution_count": 1,
   "outputs": [
    {
     "name": "stdout",
     "output_type": "stream",
     "text": [
      "pygame 2.3.0 (SDL 2.24.2, Python 3.10.12)\n",
      "Hello from the pygame community. https://www.pygame.org/contribute.html\n",
      "[['agent_0', 2], ['agent_1', 3], ['agent_2', 2], ['agent_3', 2], ['agent_4', 3], ['agent_5', 1], ['agent_6', 1], ['agent_7', 1], ['agent_8', 1], ['agent_9', 1]]\n"
     ]
    }
   ],
   "source": [
    "import pandas as pd\n",
    "\n",
    "import remi_test4\n",
    "\n",
    "env = remi_test4.env(num_good=10, num_adversaries=0, num_obstacles=0, num_food=0, max_cycles=1, num_forests=0,\n",
    "                     render_mode='human')\n",
    "env.reset()"
   ],
   "metadata": {
    "collapsed": false,
    "ExecuteTime": {
     "end_time": "2023-08-04T12:37:19.440629900Z",
     "start_time": "2023-08-04T12:37:18.461239Z"
    }
   },
   "id": "74ccd2476b26f1f7"
  },
  {
   "cell_type": "code",
   "execution_count": 2,
   "outputs": [
    {
     "name": "stdout",
     "output_type": "stream",
     "text": [
      "----------step1----------\n",
      "[['agent_0', 2], ['agent_1', 3], ['agent_2', 2], ['agent_3', 2], ['agent_4', 3], ['agent_5', 1], ['agent_6', 1], ['agent_7', 1], ['agent_8', 1], ['agent_9', 1]]\n"
     ]
    }
   ],
   "source": [
    "steps = 1\n",
    "for agent in env.agent_iter():\n",
    "    if steps % 20 == 0:\n",
    "        print(f'----------step{int(steps / 20)}----------')\n",
    "    observation, reward, termination, truncation, info = env.last()\n",
    "    if termination or truncation:\n",
    "        action = None\n",
    "    else:\n",
    "        action = env.action_space(agent).sample()\n",
    "    # this is where you would insert your policy\n",
    "    env.step(action)\n",
    "    steps += 1\n",
    "env.close()\n",
    "\n",
    "message_history = info['message_history']\n",
    "\n",
    "levels = pd.DataFrame(info['levels'], columns=['agent', 'level'])"
   ],
   "metadata": {
    "collapsed": false,
    "ExecuteTime": {
     "end_time": "2023-08-04T12:37:19.596039500Z",
     "start_time": "2023-08-04T12:37:19.433066800Z"
    }
   },
   "id": "a35596c95fae41e0"
  },
  {
   "cell_type": "code",
   "execution_count": 3,
   "outputs": [
    {
     "name": "stdout",
     "output_type": "stream",
     "text": [
      "     agent  level\n",
      "0  agent_0      2\n",
      "1  agent_1      3\n",
      "2  agent_2      2\n",
      "3  agent_3      2\n",
      "4  agent_4      3\n",
      "5  agent_5      1\n",
      "6  agent_6      1\n",
      "7  agent_7      1\n",
      "8  agent_8      1\n",
      "9  agent_9      1\n"
     ]
    },
    {
     "data": {
      "text/plain": "     sender receiver\n0   agent_0  agent_4\n0   agent_4  agent_2\n0   agent_4  agent_3\n0   agent_8  agent_4\n0   agent_8  agent_1\n..      ...      ...\n0   agent_3  agent_1\n0   agent_3  agent_6\n0   agent_5  agent_7\n0   agent_7  agent_4\n0   agent_9  agent_4\n\n[89 rows x 2 columns]",
      "text/html": "<div>\n<style scoped>\n    .dataframe tbody tr th:only-of-type {\n        vertical-align: middle;\n    }\n\n    .dataframe tbody tr th {\n        vertical-align: top;\n    }\n\n    .dataframe thead th {\n        text-align: right;\n    }\n</style>\n<table border=\"1\" class=\"dataframe\">\n  <thead>\n    <tr style=\"text-align: right;\">\n      <th></th>\n      <th>sender</th>\n      <th>receiver</th>\n    </tr>\n  </thead>\n  <tbody>\n    <tr>\n      <th>0</th>\n      <td>agent_0</td>\n      <td>agent_4</td>\n    </tr>\n    <tr>\n      <th>0</th>\n      <td>agent_4</td>\n      <td>agent_2</td>\n    </tr>\n    <tr>\n      <th>0</th>\n      <td>agent_4</td>\n      <td>agent_3</td>\n    </tr>\n    <tr>\n      <th>0</th>\n      <td>agent_8</td>\n      <td>agent_4</td>\n    </tr>\n    <tr>\n      <th>0</th>\n      <td>agent_8</td>\n      <td>agent_1</td>\n    </tr>\n    <tr>\n      <th>...</th>\n      <td>...</td>\n      <td>...</td>\n    </tr>\n    <tr>\n      <th>0</th>\n      <td>agent_3</td>\n      <td>agent_1</td>\n    </tr>\n    <tr>\n      <th>0</th>\n      <td>agent_3</td>\n      <td>agent_6</td>\n    </tr>\n    <tr>\n      <th>0</th>\n      <td>agent_5</td>\n      <td>agent_7</td>\n    </tr>\n    <tr>\n      <th>0</th>\n      <td>agent_7</td>\n      <td>agent_4</td>\n    </tr>\n    <tr>\n      <th>0</th>\n      <td>agent_9</td>\n      <td>agent_4</td>\n    </tr>\n  </tbody>\n</table>\n<p>89 rows × 2 columns</p>\n</div>"
     },
     "execution_count": 3,
     "metadata": {},
     "output_type": "execute_result"
    }
   ],
   "source": [
    "message_history.to_csv('message_history.csv', index=False)\n",
    "levels.to_csv('levels.csv', index=False)\n",
    "print(levels)\n",
    "message_history"
   ],
   "metadata": {
    "collapsed": false,
    "ExecuteTime": {
     "end_time": "2023-08-04T12:37:19.641433700Z",
     "start_time": "2023-08-04T12:37:19.592097100Z"
    }
   },
   "id": "93cebddf7f01d650"
  },
  {
   "cell_type": "code",
   "execution_count": 4,
   "outputs": [],
   "source": [
    "context = open('message_history.csv', 'r').read().replace('sender,receiver\\n', '').replace(',', ';').replace('agent_',\n",
    "                                                                                                             '')\n",
    "\n",
    "# write the csv file\n",
    "with open('reformatted_message_history.txt', 'w') as f:\n",
    "    f.write(context)\n",
    "    f.close()"
   ],
   "metadata": {
    "collapsed": false,
    "ExecuteTime": {
     "end_time": "2023-08-04T12:37:19.642386900Z",
     "start_time": "2023-08-04T12:37:19.619342900Z"
    }
   },
   "id": "7566a55cf11a8b38"
  }
 ],
 "metadata": {
  "kernelspec": {
   "display_name": "Python 3",
   "language": "python",
   "name": "python3"
  },
  "language_info": {
   "codemirror_mode": {
    "name": "ipython",
    "version": 2
   },
   "file_extension": ".py",
   "mimetype": "text/x-python",
   "name": "python",
   "nbconvert_exporter": "python",
   "pygments_lexer": "ipython2",
   "version": "2.7.6"
  }
 },
 "nbformat": 4,
 "nbformat_minor": 5
}
