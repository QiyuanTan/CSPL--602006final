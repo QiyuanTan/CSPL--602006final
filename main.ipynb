{
 "cells": [
  {
   "cell_type": "code",
   "execution_count": 1,
   "outputs": [
    {
     "name": "stdout",
     "output_type": "stream",
     "text": [
      "pygame 2.3.0 (SDL 2.24.2, Python 3.10.12)\n",
      "Hello from the pygame community. https://www.pygame.org/contribute.html\n"
     ]
    }
   ],
   "source": [
    "import time\n",
    "import remi_test4\n",
    "\n",
    "env = remi_test4.env(num_good=10, num_adversaries=0, num_obstacles=0, num_food=0, max_cycles=1e2, num_forests=0,\n",
    "                     render_mode='human')\n",
    "env.reset()"
   ],
   "metadata": {
    "collapsed": false,
    "ExecuteTime": {
     "end_time": "2023-08-03T22:45:52.731875100Z",
     "start_time": "2023-08-03T22:45:49.418866200Z"
    }
   },
   "id": "74ccd2476b26f1f7"
  },
  {
   "cell_type": "code",
   "execution_count": 2,
   "outputs": [
    {
     "name": "stdout",
     "output_type": "stream",
     "text": [
      "----------step1----------\n",
      "----------step2----------\n",
      "----------step3----------\n",
      "----------step4----------\n",
      "----------step5----------\n",
      "----------step6----------\n",
      "----------step7----------\n",
      "----------step8----------\n",
      "----------step9----------\n",
      "----------step10----------\n",
      "----------step11----------\n",
      "----------step12----------\n",
      "----------step13----------\n",
      "----------step14----------\n",
      "----------step15----------\n",
      "----------step16----------\n",
      "----------step17----------\n",
      "----------step18----------\n",
      "----------step19----------\n",
      "----------step20----------\n",
      "----------step21----------\n",
      "----------step22----------\n",
      "----------step23----------\n",
      "----------step24----------\n",
      "----------step25----------\n",
      "----------step26----------\n",
      "----------step27----------\n",
      "----------step28----------\n",
      "----------step29----------\n",
      "----------step30----------\n",
      "----------step31----------\n",
      "----------step32----------\n",
      "----------step33----------\n",
      "----------step34----------\n",
      "----------step35----------\n",
      "----------step36----------\n",
      "----------step37----------\n",
      "----------step38----------\n",
      "----------step39----------\n",
      "----------step40----------\n",
      "----------step41----------\n",
      "----------step42----------\n",
      "----------step43----------\n",
      "----------step44----------\n",
      "----------step45----------\n",
      "----------step46----------\n",
      "----------step47----------\n",
      "----------step48----------\n",
      "----------step49----------\n",
      "----------step50----------\n",
      "----------step51----------\n",
      "----------step52----------\n",
      "----------step53----------\n",
      "----------step54----------\n",
      "----------step55----------\n",
      "----------step56----------\n",
      "----------step57----------\n",
      "----------step58----------\n",
      "----------step59----------\n",
      "----------step60----------\n",
      "----------step61----------\n",
      "----------step62----------\n",
      "----------step63----------\n",
      "----------step64----------\n",
      "----------step65----------\n",
      "----------step66----------\n",
      "----------step67----------\n",
      "----------step68----------\n",
      "----------step69----------\n",
      "----------step70----------\n",
      "----------step71----------\n",
      "----------step72----------\n",
      "----------step73----------\n",
      "----------step74----------\n",
      "----------step75----------\n",
      "----------step76----------\n",
      "----------step77----------\n",
      "----------step78----------\n",
      "----------step79----------\n",
      "----------step80----------\n",
      "----------step81----------\n",
      "----------step82----------\n",
      "----------step83----------\n",
      "----------step84----------\n",
      "----------step85----------\n",
      "----------step86----------\n",
      "----------step87----------\n",
      "----------step88----------\n",
      "----------step89----------\n",
      "----------step90----------\n",
      "----------step91----------\n",
      "----------step92----------\n",
      "----------step93----------\n",
      "----------step94----------\n",
      "----------step95----------\n",
      "----------step96----------\n",
      "----------step97----------\n",
      "----------step98----------\n",
      "----------step99----------\n",
      "----------step100----------\n",
      "----------step101----------\n"
     ]
    }
   ],
   "source": [
    "n = 1\n",
    "for agent in env.agent_iter():\n",
    "    if n % 10 == 0:\n",
    "        print(f'----------step{int(n / 10)}----------')\n",
    "    observation, reward, termination, truncation, info = env.last()\n",
    "    if termination or truncation:\n",
    "        action = None\n",
    "    else:\n",
    "        action = env.action_space(agent).sample()\n",
    "    # this is where you would insert your policy\n",
    "    env.step(action)\n",
    "    n += 1\n",
    "    for inf in info:\n",
    "        message_history = info[inf]\n",
    "    # time.sleep(0.5)\n",
    "env.close()"
   ],
   "metadata": {
    "collapsed": false,
    "ExecuteTime": {
     "end_time": "2023-08-03T22:45:58.250219100Z",
     "start_time": "2023-08-03T22:45:52.631219900Z"
    }
   },
   "id": "a35596c95fae41e0"
  },
  {
   "cell_type": "code",
   "execution_count": 3,
   "outputs": [
    {
     "ename": "NameError",
     "evalue": "name 'message_history' is not defined",
     "output_type": "error",
     "traceback": [
      "\u001B[1;31m---------------------------------------------------------------------------\u001B[0m",
      "\u001B[1;31mNameError\u001B[0m                                 Traceback (most recent call last)",
      "Cell \u001B[1;32mIn[3], line 1\u001B[0m\n\u001B[1;32m----> 1\u001B[0m \u001B[43mmessage_history\u001B[49m\u001B[38;5;241m.\u001B[39mto_csv(\u001B[38;5;124m'\u001B[39m\u001B[38;5;124mmessage_history.csv\u001B[39m\u001B[38;5;124m'\u001B[39m)\n\u001B[0;32m      2\u001B[0m message_history\n",
      "\u001B[1;31mNameError\u001B[0m: name 'message_history' is not defined"
     ]
    }
   ],
   "source": [
    "message_history.to_csv('message_history.csv')\n",
    "message_history"
   ],
   "metadata": {
    "collapsed": false,
    "ExecuteTime": {
     "end_time": "2023-08-03T22:46:03.415979500Z",
     "start_time": "2023-08-03T22:46:01.398137600Z"
    }
   },
   "id": "93cebddf7f01d650"
  }
 ],
 "metadata": {
  "kernelspec": {
   "display_name": "Python 3",
   "language": "python",
   "name": "python3"
  },
  "language_info": {
   "codemirror_mode": {
    "name": "ipython",
    "version": 2
   },
   "file_extension": ".py",
   "mimetype": "text/x-python",
   "name": "python",
   "nbconvert_exporter": "python",
   "pygments_lexer": "ipython2",
   "version": "2.7.6"
  }
 },
 "nbformat": 4,
 "nbformat_minor": 5
}
