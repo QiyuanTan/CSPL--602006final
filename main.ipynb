{
 "cells": [
  {
   "cell_type": "code",
   "execution_count": 1,
   "outputs": [
    {
     "name": "stdout",
     "output_type": "stream",
     "text": [
      "pygame 2.3.0 (SDL 2.24.2, Python 3.10.12)\n",
      "Hello from the pygame community. https://www.pygame.org/contribute.html\n",
      "[<remi_test3.Agent object at 0x000002656B930130>, <remi_test3.Agent object at 0x000002656B9306D0>, <remi_test3.Agent object at 0x000002656B9308B0>, <remi_test3.Agent object at 0x000002656B9309A0>, <remi_test3.Agent object at 0x000002656B930C70>, <remi_test3.Agent object at 0x000002656B930E50>, <remi_test3.Agent object at 0x000002656B931120>, <remi_test3.Agent object at 0x000002656B931300>, <remi_test3.Agent object at 0x000002656B9313F0>, <remi_test3.Agent object at 0x000002656B9315D0>, <remi_test3.Agent object at 0x000002656B9316C0>, <remi_test3.Agent object at 0x000002656B9317B0>, <remi_test3.Agent object at 0x000002656B9318A0>, <remi_test3.Agent object at 0x000002656B931990>, <remi_test3.Agent object at 0x000002656B931B70>, <remi_test3.Agent object at 0x000002656B931C60>, <remi_test3.Agent object at 0x000002656B931D50>, <remi_test3.Agent object at 0x000002656B931E40>, <remi_test3.Agent object at 0x000002656B931F30>, <remi_test3.Agent object at 0x000002656B932020>, <remi_test3.Agent object at 0x000002656B932200>, <remi_test3.Agent object at 0x000002656B9323E0>, <remi_test3.Agent object at 0x000002656B9325C0>, <remi_test3.Agent object at 0x000002656B9327A0>, <remi_test3.Agent object at 0x000002656B932890>, <remi_test3.Agent object at 0x000002656B932980>, <remi_test3.Agent object at 0x000002656B932A70>, <remi_test3.Agent object at 0x000002656B932C50>, <remi_test3.Agent object at 0x000002656B932D40>, <remi_test3.Agent object at 0x000002656B930130>, <remi_test3.Agent object at 0x000002656B9306D0>, <remi_test3.Agent object at 0x000002656B9308B0>, <remi_test3.Agent object at 0x000002656B9309A0>, <remi_test3.Agent object at 0x000002656B930C70>, <remi_test3.Agent object at 0x000002656B930E50>, <remi_test3.Agent object at 0x000002656B931120>, <remi_test3.Agent object at 0x000002656B931300>, <remi_test3.Agent object at 0x000002656B9313F0>, <remi_test3.Agent object at 0x000002656B9315D0>, <remi_test3.Agent object at 0x000002656B9316C0>, <remi_test3.Agent object at 0x000002656B9317B0>, <remi_test3.Agent object at 0x000002656B9318A0>, <remi_test3.Agent object at 0x000002656B931990>, <remi_test3.Agent object at 0x000002656B931B70>, <remi_test3.Agent object at 0x000002656B931C60>, <remi_test3.Agent object at 0x000002656B931D50>, <remi_test3.Agent object at 0x000002656B931E40>, <remi_test3.Agent object at 0x000002656B931F30>, <remi_test3.Agent object at 0x000002656B932020>, <remi_test3.Agent object at 0x000002656B932200>, <remi_test3.Agent object at 0x000002656B9323E0>, <remi_test3.Agent object at 0x000002656B9325C0>, <remi_test3.Agent object at 0x000002656B9327A0>, <remi_test3.Agent object at 0x000002656B932890>, <remi_test3.Agent object at 0x000002656B932980>, <remi_test3.Agent object at 0x000002656B932A70>, <remi_test3.Agent object at 0x000002656B932C50>, <remi_test3.Agent object at 0x000002656B932D40>, <remi_test3.Agent object at 0x000002656908E710>, <remi_test3.Agent object at 0x000002656B930220>, <remi_test3.Agent object at 0x000002656B930310>, <remi_test3.Agent object at 0x000002656B930400>, <remi_test3.Agent object at 0x000002656B9304F0>, <remi_test3.Agent object at 0x000002656B930A90>, <remi_test3.Agent object at 0x000002656B930B80>, <remi_test3.Agent object at 0x000002656B930D60>, <remi_test3.Agent object at 0x000002656B931030>, <remi_test3.Agent object at 0x000002656B931210>, <remi_test3.Agent object at 0x000002656B9314E0>, <remi_test3.Agent object at 0x000002656B931A80>, <remi_test3.Agent object at 0x000002656B932110>, <remi_test3.Agent object at 0x000002656B9322F0>, <remi_test3.Agent object at 0x000002656B9326B0>, <remi_test3.Agent object at 0x000002656B932B60>, <remi_test3.Agent object at 0x000002656908E710>, <remi_test3.Agent object at 0x000002656B930220>, <remi_test3.Agent object at 0x000002656B930310>, <remi_test3.Agent object at 0x000002656B930400>, <remi_test3.Agent object at 0x000002656B9304F0>, <remi_test3.Agent object at 0x000002656B930A90>, <remi_test3.Agent object at 0x000002656B930B80>, <remi_test3.Agent object at 0x000002656B930D60>, <remi_test3.Agent object at 0x000002656B931030>, <remi_test3.Agent object at 0x000002656B931210>, <remi_test3.Agent object at 0x000002656B9314E0>, <remi_test3.Agent object at 0x000002656B931A80>, <remi_test3.Agent object at 0x000002656B932110>, <remi_test3.Agent object at 0x000002656B9322F0>, <remi_test3.Agent object at 0x000002656B9326B0>, <remi_test3.Agent object at 0x000002656B932B60>, <remi_test3.Agent object at 0x000002656908E710>, <remi_test3.Agent object at 0x000002656B930220>, <remi_test3.Agent object at 0x000002656B930310>, <remi_test3.Agent object at 0x000002656B930400>, <remi_test3.Agent object at 0x000002656B9304F0>, <remi_test3.Agent object at 0x000002656B930A90>, <remi_test3.Agent object at 0x000002656B930B80>, <remi_test3.Agent object at 0x000002656B930D60>, <remi_test3.Agent object at 0x000002656B931030>, <remi_test3.Agent object at 0x000002656B931210>, <remi_test3.Agent object at 0x000002656B9314E0>, <remi_test3.Agent object at 0x000002656B931A80>, <remi_test3.Agent object at 0x000002656B932110>, <remi_test3.Agent object at 0x000002656B9322F0>, <remi_test3.Agent object at 0x000002656B9326B0>, <remi_test3.Agent object at 0x000002656B932B60>, <remi_test3.Agent object at 0x000002656B930040>, <remi_test3.Agent object at 0x000002656B9305E0>, <remi_test3.Agent object at 0x000002656B9307C0>, <remi_test3.Agent object at 0x000002656B930F40>, <remi_test3.Agent object at 0x000002656B9324D0>, <remi_test3.Agent object at 0x000002656B930040>, <remi_test3.Agent object at 0x000002656B9305E0>, <remi_test3.Agent object at 0x000002656B9307C0>, <remi_test3.Agent object at 0x000002656B930F40>, <remi_test3.Agent object at 0x000002656B9324D0>, <remi_test3.Agent object at 0x000002656B930040>, <remi_test3.Agent object at 0x000002656B9305E0>, <remi_test3.Agent object at 0x000002656B9307C0>, <remi_test3.Agent object at 0x000002656B930F40>, <remi_test3.Agent object at 0x000002656B9324D0>, <remi_test3.Agent object at 0x000002656B930040>, <remi_test3.Agent object at 0x000002656B9305E0>, <remi_test3.Agent object at 0x000002656B9307C0>, <remi_test3.Agent object at 0x000002656B930F40>, <remi_test3.Agent object at 0x000002656B9324D0>, <remi_test3.Agent object at 0x000002656B930040>, <remi_test3.Agent object at 0x000002656B9305E0>, <remi_test3.Agent object at 0x000002656B9307C0>, <remi_test3.Agent object at 0x000002656B930F40>, <remi_test3.Agent object at 0x000002656B9324D0>]\n"
     ]
    }
   ],
   "source": [
    "import remi_test4\n",
    "\n",
    "env = remi_test4.env(num_good=50, num_adversaries=0, num_obstacles=0, num_food=0, max_cycles=1, num_forests=0,\n",
    "                     render_mode='human')\n",
    "env.reset()"
   ],
   "metadata": {
    "collapsed": false,
    "ExecuteTime": {
     "end_time": "2023-08-04T10:41:57.590043800Z",
     "start_time": "2023-08-04T10:41:56.044182100Z"
    }
   },
   "id": "74ccd2476b26f1f7"
  },
  {
   "cell_type": "code",
   "execution_count": 2,
   "outputs": [
    {
     "name": "stdout",
     "output_type": "stream",
     "text": [
      "----------step1----------\n",
      "----------step2----------\n",
      "----------step3----------\n",
      "----------step4----------\n",
      "----------step5----------\n"
     ]
    }
   ],
   "source": [
    "steps = 1\n",
    "for agent in env.agent_iter():\n",
    "    if steps % 20 == 0:\n",
    "        print(f'----------step{int(steps / 20)}----------')\n",
    "    observation, reward, termination, truncation, info = env.last()\n",
    "    if termination or truncation:\n",
    "        action = None\n",
    "    else:\n",
    "        action = env.action_space(agent).sample()\n",
    "    # this is where you would insert your policy\n",
    "    env.step(action)\n",
    "    steps += 1\n",
    "    for inf in info:\n",
    "        message_history = info[inf]\n",
    "env.close()"
   ],
   "metadata": {
    "collapsed": false,
    "ExecuteTime": {
     "end_time": "2023-08-04T10:41:59.356788100Z",
     "start_time": "2023-08-04T10:41:57.589046100Z"
    }
   },
   "id": "a35596c95fae41e0"
  },
  {
   "cell_type": "code",
   "execution_count": 3,
   "outputs": [
    {
     "data": {
      "text/plain": "      sender  receiver\n0    agent_0  agent_27\n0    agent_0  agent_47\n0    agent_2   agent_7\n0    agent_6  agent_12\n0    agent_7   agent_6\n..       ...       ...\n0   agent_45  agent_38\n0   agent_46   agent_5\n0   agent_48  agent_17\n0   agent_48  agent_37\n0   agent_49  agent_14\n\n[2503 rows x 2 columns]",
      "text/html": "<div>\n<style scoped>\n    .dataframe tbody tr th:only-of-type {\n        vertical-align: middle;\n    }\n\n    .dataframe tbody tr th {\n        vertical-align: top;\n    }\n\n    .dataframe thead th {\n        text-align: right;\n    }\n</style>\n<table border=\"1\" class=\"dataframe\">\n  <thead>\n    <tr style=\"text-align: right;\">\n      <th></th>\n      <th>sender</th>\n      <th>receiver</th>\n    </tr>\n  </thead>\n  <tbody>\n    <tr>\n      <th>0</th>\n      <td>agent_0</td>\n      <td>agent_27</td>\n    </tr>\n    <tr>\n      <th>0</th>\n      <td>agent_0</td>\n      <td>agent_47</td>\n    </tr>\n    <tr>\n      <th>0</th>\n      <td>agent_2</td>\n      <td>agent_7</td>\n    </tr>\n    <tr>\n      <th>0</th>\n      <td>agent_6</td>\n      <td>agent_12</td>\n    </tr>\n    <tr>\n      <th>0</th>\n      <td>agent_7</td>\n      <td>agent_6</td>\n    </tr>\n    <tr>\n      <th>...</th>\n      <td>...</td>\n      <td>...</td>\n    </tr>\n    <tr>\n      <th>0</th>\n      <td>agent_45</td>\n      <td>agent_38</td>\n    </tr>\n    <tr>\n      <th>0</th>\n      <td>agent_46</td>\n      <td>agent_5</td>\n    </tr>\n    <tr>\n      <th>0</th>\n      <td>agent_48</td>\n      <td>agent_17</td>\n    </tr>\n    <tr>\n      <th>0</th>\n      <td>agent_48</td>\n      <td>agent_37</td>\n    </tr>\n    <tr>\n      <th>0</th>\n      <td>agent_49</td>\n      <td>agent_14</td>\n    </tr>\n  </tbody>\n</table>\n<p>2503 rows × 2 columns</p>\n</div>"
     },
     "execution_count": 3,
     "metadata": {},
     "output_type": "execute_result"
    }
   ],
   "source": [
    "message_history.to_csv('message_history.csv', index=False)\n",
    "message_history"
   ],
   "metadata": {
    "collapsed": false,
    "ExecuteTime": {
     "end_time": "2023-08-04T10:41:59.393105Z",
     "start_time": "2023-08-04T10:41:59.350358400Z"
    }
   },
   "id": "93cebddf7f01d650"
  },
  {
   "cell_type": "code",
   "execution_count": 4,
   "outputs": [],
   "source": [
    "context = open('message_history.csv', 'r').read().replace('sender,receiver\\n', '').replace(',', ';').replace('agent_',\n",
    "                                                                                                             '')\n",
    "\n",
    "# write the csv file\n",
    "with open('reformatted_message_history.txt', 'w') as f:\n",
    "    f.write(context)\n",
    "    f.close()"
   ],
   "metadata": {
    "collapsed": false,
    "ExecuteTime": {
     "end_time": "2023-08-04T10:41:59.393105Z",
     "start_time": "2023-08-04T10:41:59.376968800Z"
    }
   },
   "id": "7566a55cf11a8b38"
  }
 ],
 "metadata": {
  "kernelspec": {
   "display_name": "Python 3",
   "language": "python",
   "name": "python3"
  },
  "language_info": {
   "codemirror_mode": {
    "name": "ipython",
    "version": 2
   },
   "file_extension": ".py",
   "mimetype": "text/x-python",
   "name": "python",
   "nbconvert_exporter": "python",
   "pygments_lexer": "ipython2",
   "version": "2.7.6"
  }
 },
 "nbformat": 4,
 "nbformat_minor": 5
}
