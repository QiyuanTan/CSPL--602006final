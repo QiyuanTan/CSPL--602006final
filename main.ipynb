{
 "cells": [
  {
   "cell_type": "code",
   "execution_count": 1,
   "outputs": [
    {
     "name": "stdout",
     "output_type": "stream",
     "text": [
      "pygame 2.3.0 (SDL 2.24.2, Python 3.10.12)\n",
      "Hello from the pygame community. https://www.pygame.org/contribute.html\n",
      "[<remi_test3.Agent object at 0x000001F460CFFF40>, <remi_test3.Agent object at 0x000001F460D30070>, <remi_test3.Agent object at 0x000001F460D30160>, <remi_test3.Agent object at 0x000001F460D30340>, <remi_test3.Agent object at 0x000001F460D30430>, <remi_test3.Agent object at 0x000001F460D30610>, <remi_test3.Agent object at 0x000001F460CFFF40>, <remi_test3.Agent object at 0x000001F460D30070>, <remi_test3.Agent object at 0x000001F460D30160>, <remi_test3.Agent object at 0x000001F460D30340>, <remi_test3.Agent object at 0x000001F460D30430>, <remi_test3.Agent object at 0x000001F460D30610>, <remi_test3.Agent object at 0x000001F460CFFF40>, <remi_test3.Agent object at 0x000001F460D30070>, <remi_test3.Agent object at 0x000001F460D30160>, <remi_test3.Agent object at 0x000001F460D30340>, <remi_test3.Agent object at 0x000001F460D30430>, <remi_test3.Agent object at 0x000001F460D30610>, <remi_test3.Agent object at 0x000001F460CFFF40>, <remi_test3.Agent object at 0x000001F460D30070>, <remi_test3.Agent object at 0x000001F460D30160>, <remi_test3.Agent object at 0x000001F460D30340>, <remi_test3.Agent object at 0x000001F460D30430>, <remi_test3.Agent object at 0x000001F460D30610>, <remi_test3.Agent object at 0x000001F460CFFF40>, <remi_test3.Agent object at 0x000001F460D30070>, <remi_test3.Agent object at 0x000001F460D30160>, <remi_test3.Agent object at 0x000001F460D30340>, <remi_test3.Agent object at 0x000001F460D30430>, <remi_test3.Agent object at 0x000001F460D30610>, <remi_test3.Agent object at 0x000001F460CFFF40>, <remi_test3.Agent object at 0x000001F460D30070>, <remi_test3.Agent object at 0x000001F460D30160>, <remi_test3.Agent object at 0x000001F460D30340>, <remi_test3.Agent object at 0x000001F460D30430>, <remi_test3.Agent object at 0x000001F460D30610>, <remi_test3.Agent object at 0x000001F460CFFF40>, <remi_test3.Agent object at 0x000001F460D30070>, <remi_test3.Agent object at 0x000001F460D30160>, <remi_test3.Agent object at 0x000001F460D30340>, <remi_test3.Agent object at 0x000001F460D30430>, <remi_test3.Agent object at 0x000001F460D30610>, <remi_test3.Agent object at 0x000001F460CFFF40>, <remi_test3.Agent object at 0x000001F460D30070>, <remi_test3.Agent object at 0x000001F460D30160>, <remi_test3.Agent object at 0x000001F460D30340>, <remi_test3.Agent object at 0x000001F460D30430>, <remi_test3.Agent object at 0x000001F460D30610>, <remi_test3.Agent object at 0x000001F460CFFF40>, <remi_test3.Agent object at 0x000001F460D30070>, <remi_test3.Agent object at 0x000001F460D30160>, <remi_test3.Agent object at 0x000001F460D30340>, <remi_test3.Agent object at 0x000001F460D30430>, <remi_test3.Agent object at 0x000001F460D30610>, <remi_test3.Agent object at 0x000001F460CFFF40>, <remi_test3.Agent object at 0x000001F460D30070>, <remi_test3.Agent object at 0x000001F460D30160>, <remi_test3.Agent object at 0x000001F460D30340>, <remi_test3.Agent object at 0x000001F460D30430>, <remi_test3.Agent object at 0x000001F460D30610>, <remi_test3.Agent object at 0x000001F45E48E6E0>, <remi_test3.Agent object at 0x000001F460D30250>, <remi_test3.Agent object at 0x000001F460D30520>, <remi_test3.Agent object at 0x000001F45E48E6E0>, <remi_test3.Agent object at 0x000001F460D30250>, <remi_test3.Agent object at 0x000001F460D30520>, <remi_test3.Agent object at 0x000001F45E48E6E0>, <remi_test3.Agent object at 0x000001F460D30250>, <remi_test3.Agent object at 0x000001F460D30520>, <remi_test3.Agent object at 0x000001F45E48E6E0>, <remi_test3.Agent object at 0x000001F460D30250>, <remi_test3.Agent object at 0x000001F460D30520>, <remi_test3.Agent object at 0x000001F45E48E6E0>, <remi_test3.Agent object at 0x000001F460D30250>, <remi_test3.Agent object at 0x000001F460D30520>, <remi_test3.Agent object at 0x000001F45E48E6E0>, <remi_test3.Agent object at 0x000001F460D30250>, <remi_test3.Agent object at 0x000001F460D30520>, <remi_test3.Agent object at 0x000001F45E48E6E0>, <remi_test3.Agent object at 0x000001F460D30250>, <remi_test3.Agent object at 0x000001F460D30520>, <remi_test3.Agent object at 0x000001F45E48E6E0>, <remi_test3.Agent object at 0x000001F460D30250>, <remi_test3.Agent object at 0x000001F460D30520>, <remi_test3.Agent object at 0x000001F45E48E6E0>, <remi_test3.Agent object at 0x000001F460D30250>, <remi_test3.Agent object at 0x000001F460D30520>, <remi_test3.Agent object at 0x000001F45E48E6E0>, <remi_test3.Agent object at 0x000001F460D30250>, <remi_test3.Agent object at 0x000001F460D30520>, <remi_test3.Agent object at 0x000001F460D30700>, <remi_test3.Agent object at 0x000001F460D30700>, <remi_test3.Agent object at 0x000001F460D30700>, <remi_test3.Agent object at 0x000001F460D30700>, <remi_test3.Agent object at 0x000001F460D30700>, <remi_test3.Agent object at 0x000001F460D30700>, <remi_test3.Agent object at 0x000001F460D30700>, <remi_test3.Agent object at 0x000001F460D30700>, <remi_test3.Agent object at 0x000001F460D30700>, <remi_test3.Agent object at 0x000001F460D30700>]\n"
     ]
    }
   ],
   "source": [
    "import time\n",
    "import remi_test4\n",
    "\n",
    "env = remi_test4.env(num_good=10, num_adversaries=0, num_obstacles=0, num_food=0, max_cycles=5e1, num_forests=0,\n",
    "                     render_mode='human')\n",
    "env.reset()"
   ],
   "metadata": {
    "collapsed": false,
    "ExecuteTime": {
     "end_time": "2023-08-04T01:03:05.193565500Z",
     "start_time": "2023-08-04T01:03:04.294435200Z"
    }
   },
   "id": "74ccd2476b26f1f7"
  },
  {
   "cell_type": "code",
   "execution_count": 2,
   "outputs": [
    {
     "name": "stdout",
     "output_type": "stream",
     "text": [
      "----------step1----------\n",
      "----------step2----------\n",
      "----------step3----------\n",
      "----------step4----------\n",
      "----------step5----------\n",
      "----------step6----------\n",
      "----------step7----------\n",
      "----------step8----------\n",
      "----------step9----------\n",
      "----------step10----------\n",
      "----------step11----------\n",
      "----------step12----------\n",
      "----------step13----------\n",
      "----------step14----------\n",
      "----------step15----------\n",
      "----------step16----------\n",
      "----------step17----------\n",
      "----------step18----------\n",
      "----------step19----------\n",
      "----------step20----------\n",
      "----------step21----------\n",
      "----------step22----------\n",
      "----------step23----------\n",
      "----------step24----------\n",
      "----------step25----------\n",
      "----------step26----------\n",
      "----------step27----------\n",
      "----------step28----------\n",
      "----------step29----------\n",
      "----------step30----------\n",
      "----------step31----------\n",
      "----------step32----------\n",
      "----------step33----------\n",
      "----------step34----------\n",
      "----------step35----------\n",
      "----------step36----------\n",
      "----------step37----------\n",
      "----------step38----------\n",
      "----------step39----------\n",
      "----------step40----------\n",
      "----------step41----------\n",
      "----------step42----------\n",
      "----------step43----------\n",
      "----------step44----------\n",
      "----------step45----------\n",
      "----------step46----------\n",
      "----------step47----------\n",
      "----------step48----------\n",
      "----------step49----------\n",
      "----------step50----------\n",
      "----------step51----------\n"
     ]
    }
   ],
   "source": [
    "n = 1\n",
    "for agent in env.agent_iter():\n",
    "    if n % 10 == 0:\n",
    "        print(f'----------step{int(n / 10)}----------')\n",
    "    observation, reward, termination, truncation, info = env.last()\n",
    "    if termination or truncation:\n",
    "        action = None\n",
    "    else:\n",
    "        action = env.action_space(agent).sample()\n",
    "    # this is where you would insert your policy\n",
    "    env.step(action)\n",
    "    n += 1\n",
    "    for inf in info:\n",
    "        message_history = info[inf]\n",
    "    # time.sleep(0.5)\n",
    "env.close()"
   ],
   "metadata": {
    "collapsed": false,
    "ExecuteTime": {
     "end_time": "2023-08-04T01:03:11.793423400Z",
     "start_time": "2023-08-04T01:03:05.191551600Z"
    }
   },
   "id": "a35596c95fae41e0"
  },
  {
   "cell_type": "code",
   "execution_count": 3,
   "outputs": [
    {
     "data": {
      "text/plain": "     sender receiver\n0   agent_0  agent_2\n0   agent_0  agent_5\n0   agent_0  agent_3\n0   agent_1  agent_9\n0   agent_2  agent_7\n..      ...      ...\n0   agent_8  agent_9\n0   agent_9  agent_8\n0   agent_9  agent_4\n0   agent_9  agent_5\n0   agent_9  agent_1\n\n[12628 rows x 2 columns]",
      "text/html": "<div>\n<style scoped>\n    .dataframe tbody tr th:only-of-type {\n        vertical-align: middle;\n    }\n\n    .dataframe tbody tr th {\n        vertical-align: top;\n    }\n\n    .dataframe thead th {\n        text-align: right;\n    }\n</style>\n<table border=\"1\" class=\"dataframe\">\n  <thead>\n    <tr style=\"text-align: right;\">\n      <th></th>\n      <th>sender</th>\n      <th>receiver</th>\n    </tr>\n  </thead>\n  <tbody>\n    <tr>\n      <th>0</th>\n      <td>agent_0</td>\n      <td>agent_2</td>\n    </tr>\n    <tr>\n      <th>0</th>\n      <td>agent_0</td>\n      <td>agent_5</td>\n    </tr>\n    <tr>\n      <th>0</th>\n      <td>agent_0</td>\n      <td>agent_3</td>\n    </tr>\n    <tr>\n      <th>0</th>\n      <td>agent_1</td>\n      <td>agent_9</td>\n    </tr>\n    <tr>\n      <th>0</th>\n      <td>agent_2</td>\n      <td>agent_7</td>\n    </tr>\n    <tr>\n      <th>...</th>\n      <td>...</td>\n      <td>...</td>\n    </tr>\n    <tr>\n      <th>0</th>\n      <td>agent_8</td>\n      <td>agent_9</td>\n    </tr>\n    <tr>\n      <th>0</th>\n      <td>agent_9</td>\n      <td>agent_8</td>\n    </tr>\n    <tr>\n      <th>0</th>\n      <td>agent_9</td>\n      <td>agent_4</td>\n    </tr>\n    <tr>\n      <th>0</th>\n      <td>agent_9</td>\n      <td>agent_5</td>\n    </tr>\n    <tr>\n      <th>0</th>\n      <td>agent_9</td>\n      <td>agent_1</td>\n    </tr>\n  </tbody>\n</table>\n<p>12628 rows × 2 columns</p>\n</div>"
     },
     "execution_count": 3,
     "metadata": {},
     "output_type": "execute_result"
    }
   ],
   "source": [
    "message_history.to_csv('message_history.csv', index=False)\n",
    "message_history"
   ],
   "metadata": {
    "collapsed": false,
    "ExecuteTime": {
     "end_time": "2023-08-04T01:03:11.834670500Z",
     "start_time": "2023-08-04T01:03:11.795449Z"
    }
   },
   "id": "93cebddf7f01d650"
  },
  {
   "cell_type": "code",
   "execution_count": 4,
   "outputs": [],
   "source": [
    "context = open('message_history.csv', 'r').read().replace('sender,receiver\\n', '').replace(',', ';').replace('agent_',\n",
    "                                                                                                             '')\n",
    "\n",
    "# write the csv file\n",
    "with open('reformatted_message_history.txt', 'w') as f:\n",
    "    f.write(context)\n",
    "    f.close()"
   ],
   "metadata": {
    "collapsed": false,
    "ExecuteTime": {
     "end_time": "2023-08-04T01:03:11.881530400Z",
     "start_time": "2023-08-04T01:03:11.824391500Z"
    }
   },
   "id": "7566a55cf11a8b38"
  }
 ],
 "metadata": {
  "kernelspec": {
   "display_name": "Python 3",
   "language": "python",
   "name": "python3"
  },
  "language_info": {
   "codemirror_mode": {
    "name": "ipython",
    "version": 2
   },
   "file_extension": ".py",
   "mimetype": "text/x-python",
   "name": "python",
   "nbconvert_exporter": "python",
   "pygments_lexer": "ipython2",
   "version": "2.7.6"
  }
 },
 "nbformat": 4,
 "nbformat_minor": 5
}
