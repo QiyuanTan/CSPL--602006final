{
 "cells": [
  {
   "cell_type": "code",
   "execution_count": 1,
   "outputs": [
    {
     "name": "stdout",
     "output_type": "stream",
     "text": [
      "pygame 2.3.0 (SDL 2.24.2, Python 3.10.12)\n",
      "Hello from the pygame community. https://www.pygame.org/contribute.html\n",
      "[<remi_test3.Agent object at 0x00000221088F0040>, <remi_test3.Agent object at 0x00000221088F0400>, <remi_test3.Agent object at 0x00000221088F06D0>, <remi_test3.Agent object at 0x00000221088F09A0>, <remi_test3.Agent object at 0x00000221088F0A90>, <remi_test3.Agent object at 0x00000221088F0E50>, <remi_test3.Agent object at 0x00000221088F0040>, <remi_test3.Agent object at 0x00000221088F0400>, <remi_test3.Agent object at 0x00000221088F06D0>, <remi_test3.Agent object at 0x00000221088F09A0>, <remi_test3.Agent object at 0x00000221088F0A90>, <remi_test3.Agent object at 0x00000221088F0E50>, <remi_test3.Agent object at 0x000002210604E620>, <remi_test3.Agent object at 0x00000221088F0130>, <remi_test3.Agent object at 0x00000221088F0310>, <remi_test3.Agent object at 0x00000221088F04F0>, <remi_test3.Agent object at 0x00000221088F05E0>, <remi_test3.Agent object at 0x00000221088F07C0>, <remi_test3.Agent object at 0x00000221088F08B0>, <remi_test3.Agent object at 0x00000221088F0B80>, <remi_test3.Agent object at 0x00000221088F0F40>, <remi_test3.Agent object at 0x00000221088F1120>, <remi_test3.Agent object at 0x000002210604E620>, <remi_test3.Agent object at 0x00000221088F0130>, <remi_test3.Agent object at 0x00000221088F0310>, <remi_test3.Agent object at 0x00000221088F04F0>, <remi_test3.Agent object at 0x00000221088F05E0>, <remi_test3.Agent object at 0x00000221088F07C0>, <remi_test3.Agent object at 0x00000221088F08B0>, <remi_test3.Agent object at 0x00000221088F0B80>, <remi_test3.Agent object at 0x00000221088F0F40>, <remi_test3.Agent object at 0x00000221088F1120>, <remi_test3.Agent object at 0x000002210604E620>, <remi_test3.Agent object at 0x00000221088F0130>, <remi_test3.Agent object at 0x00000221088F0310>, <remi_test3.Agent object at 0x00000221088F04F0>, <remi_test3.Agent object at 0x00000221088F05E0>, <remi_test3.Agent object at 0x00000221088F07C0>, <remi_test3.Agent object at 0x00000221088F08B0>, <remi_test3.Agent object at 0x00000221088F0B80>, <remi_test3.Agent object at 0x00000221088F0F40>, <remi_test3.Agent object at 0x00000221088F1120>, <remi_test3.Agent object at 0x00000221088F0220>, <remi_test3.Agent object at 0x00000221088F0C70>, <remi_test3.Agent object at 0x00000221088F0D60>, <remi_test3.Agent object at 0x00000221088F1030>, <remi_test3.Agent object at 0x00000221088F0220>, <remi_test3.Agent object at 0x00000221088F0C70>, <remi_test3.Agent object at 0x00000221088F0D60>, <remi_test3.Agent object at 0x00000221088F1030>, <remi_test3.Agent object at 0x00000221088F0220>, <remi_test3.Agent object at 0x00000221088F0C70>, <remi_test3.Agent object at 0x00000221088F0D60>, <remi_test3.Agent object at 0x00000221088F1030>, <remi_test3.Agent object at 0x00000221088F0220>, <remi_test3.Agent object at 0x00000221088F0C70>, <remi_test3.Agent object at 0x00000221088F0D60>, <remi_test3.Agent object at 0x00000221088F1030>, <remi_test3.Agent object at 0x00000221088F0220>, <remi_test3.Agent object at 0x00000221088F0C70>, <remi_test3.Agent object at 0x00000221088F0D60>, <remi_test3.Agent object at 0x00000221088F1030>]\n"
     ]
    }
   ],
   "source": [
    "import remi_test4\n",
    "\n",
    "env = remi_test4.env(num_good=20, num_adversaries=0, num_obstacles=0, num_food=0, max_cycles=2, num_forests=0,\n",
    "                     render_mode='human')\n",
    "env.reset()"
   ],
   "metadata": {
    "collapsed": false,
    "ExecuteTime": {
     "end_time": "2023-08-04T10:38:34.795249100Z",
     "start_time": "2023-08-04T10:38:34.033260200Z"
    }
   },
   "id": "74ccd2476b26f1f7"
  },
  {
   "cell_type": "code",
   "execution_count": 2,
   "outputs": [
    {
     "name": "stdout",
     "output_type": "stream",
     "text": [
      "----------step1----------\n",
      "----------step2----------\n",
      "----------step3----------\n"
     ]
    }
   ],
   "source": [
    "steps = 1\n",
    "for agent in env.agent_iter():\n",
    "    if steps % 20 == 0:\n",
    "        print(f'----------step{int(steps / 20)}----------')\n",
    "    observation, reward, termination, truncation, info = env.last()\n",
    "    if termination or truncation:\n",
    "        action = None\n",
    "    else:\n",
    "        action = env.action_space(agent).sample()\n",
    "    # this is where you would insert your policy\n",
    "    env.step(action)\n",
    "    steps += 1\n",
    "    for inf in info:\n",
    "        message_history = info[inf]\n",
    "env.close()"
   ],
   "metadata": {
    "collapsed": false,
    "ExecuteTime": {
     "end_time": "2023-08-04T10:38:35.713844900Z",
     "start_time": "2023-08-04T10:38:34.789145800Z"
    }
   },
   "id": "a35596c95fae41e0"
  },
  {
   "cell_type": "code",
   "execution_count": 3,
   "outputs": [
    {
     "data": {
      "text/plain": "      sender  receiver\n0    agent_0  agent_14\n0    agent_1   agent_2\n0    agent_1   agent_6\n0    agent_3   agent_8\n0    agent_3   agent_1\n..       ...       ...\n0   agent_17   agent_8\n0   agent_17   agent_3\n0   agent_19   agent_9\n0   agent_19  agent_14\n0   agent_19   agent_0\n\n[1166 rows x 2 columns]",
      "text/html": "<div>\n<style scoped>\n    .dataframe tbody tr th:only-of-type {\n        vertical-align: middle;\n    }\n\n    .dataframe tbody tr th {\n        vertical-align: top;\n    }\n\n    .dataframe thead th {\n        text-align: right;\n    }\n</style>\n<table border=\"1\" class=\"dataframe\">\n  <thead>\n    <tr style=\"text-align: right;\">\n      <th></th>\n      <th>sender</th>\n      <th>receiver</th>\n    </tr>\n  </thead>\n  <tbody>\n    <tr>\n      <th>0</th>\n      <td>agent_0</td>\n      <td>agent_14</td>\n    </tr>\n    <tr>\n      <th>0</th>\n      <td>agent_1</td>\n      <td>agent_2</td>\n    </tr>\n    <tr>\n      <th>0</th>\n      <td>agent_1</td>\n      <td>agent_6</td>\n    </tr>\n    <tr>\n      <th>0</th>\n      <td>agent_3</td>\n      <td>agent_8</td>\n    </tr>\n    <tr>\n      <th>0</th>\n      <td>agent_3</td>\n      <td>agent_1</td>\n    </tr>\n    <tr>\n      <th>...</th>\n      <td>...</td>\n      <td>...</td>\n    </tr>\n    <tr>\n      <th>0</th>\n      <td>agent_17</td>\n      <td>agent_8</td>\n    </tr>\n    <tr>\n      <th>0</th>\n      <td>agent_17</td>\n      <td>agent_3</td>\n    </tr>\n    <tr>\n      <th>0</th>\n      <td>agent_19</td>\n      <td>agent_9</td>\n    </tr>\n    <tr>\n      <th>0</th>\n      <td>agent_19</td>\n      <td>agent_14</td>\n    </tr>\n    <tr>\n      <th>0</th>\n      <td>agent_19</td>\n      <td>agent_0</td>\n    </tr>\n  </tbody>\n</table>\n<p>1166 rows × 2 columns</p>\n</div>"
     },
     "execution_count": 3,
     "metadata": {},
     "output_type": "execute_result"
    }
   ],
   "source": [
    "message_history.to_csv('message_history.csv', index=False)\n",
    "message_history"
   ],
   "metadata": {
    "collapsed": false,
    "ExecuteTime": {
     "end_time": "2023-08-04T10:38:35.740940400Z",
     "start_time": "2023-08-04T10:38:35.708337700Z"
    }
   },
   "id": "93cebddf7f01d650"
  },
  {
   "cell_type": "code",
   "execution_count": 4,
   "outputs": [],
   "source": [
    "context = open('message_history.csv', 'r').read().replace('sender,receiver\\n', '').replace(',', ';').replace('agent_',\n",
    "                                                                                                             '')\n",
    "\n",
    "# write the csv file\n",
    "with open('reformatted_message_history.txt', 'w') as f:\n",
    "    f.write(context)\n",
    "    f.close()"
   ],
   "metadata": {
    "collapsed": false,
    "ExecuteTime": {
     "end_time": "2023-08-04T10:38:35.741935800Z",
     "start_time": "2023-08-04T10:38:35.736936400Z"
    }
   },
   "id": "7566a55cf11a8b38"
  }
 ],
 "metadata": {
  "kernelspec": {
   "display_name": "Python 3",
   "language": "python",
   "name": "python3"
  },
  "language_info": {
   "codemirror_mode": {
    "name": "ipython",
    "version": 2
   },
   "file_extension": ".py",
   "mimetype": "text/x-python",
   "name": "python",
   "nbconvert_exporter": "python",
   "pygments_lexer": "ipython2",
   "version": "2.7.6"
  }
 },
 "nbformat": 4,
 "nbformat_minor": 5
}
