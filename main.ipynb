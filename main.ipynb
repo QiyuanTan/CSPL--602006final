{
 "cells": [
  {
   "cell_type": "code",
   "execution_count": 1,
   "outputs": [
    {
     "name": "stdout",
     "output_type": "stream",
     "text": [
      "pygame 2.3.0 (SDL 2.24.2, Python 3.10.12)\n",
      "Hello from the pygame community. https://www.pygame.org/contribute.html\n",
      "[<remi_test3.Agent object at 0x000002447126EFB0>, <remi_test3.Agent object at 0x0000024473B10130>, <remi_test3.Agent object at 0x0000024473B10400>, <remi_test3.Agent object at 0x0000024473B105E0>, <remi_test3.Agent object at 0x0000024473B10B80>, <remi_test3.Agent object at 0x0000024473B10C70>, <remi_test3.Agent object at 0x0000024473B10D60>, <remi_test3.Agent object at 0x0000024473B10E50>, <remi_test3.Agent object at 0x0000024473B10F40>, <remi_test3.Agent object at 0x0000024473B11030>, <remi_test3.Agent object at 0x0000024473B11120>, <remi_test3.Agent object at 0x000002447126EFB0>, <remi_test3.Agent object at 0x0000024473B10130>, <remi_test3.Agent object at 0x0000024473B10400>, <remi_test3.Agent object at 0x0000024473B105E0>, <remi_test3.Agent object at 0x0000024473B10B80>, <remi_test3.Agent object at 0x0000024473B10C70>, <remi_test3.Agent object at 0x0000024473B10D60>, <remi_test3.Agent object at 0x0000024473B10E50>, <remi_test3.Agent object at 0x0000024473B10F40>, <remi_test3.Agent object at 0x0000024473B11030>, <remi_test3.Agent object at 0x0000024473B11120>, <remi_test3.Agent object at 0x0000024473B10040>, <remi_test3.Agent object at 0x0000024473B10220>, <remi_test3.Agent object at 0x0000024473B10310>, <remi_test3.Agent object at 0x0000024473B104F0>, <remi_test3.Agent object at 0x0000024473B107C0>, <remi_test3.Agent object at 0x0000024473B108B0>, <remi_test3.Agent object at 0x0000024473B109A0>, <remi_test3.Agent object at 0x0000024473B10A90>, <remi_test3.Agent object at 0x0000024473B10040>, <remi_test3.Agent object at 0x0000024473B10220>, <remi_test3.Agent object at 0x0000024473B10310>, <remi_test3.Agent object at 0x0000024473B104F0>, <remi_test3.Agent object at 0x0000024473B107C0>, <remi_test3.Agent object at 0x0000024473B108B0>, <remi_test3.Agent object at 0x0000024473B109A0>, <remi_test3.Agent object at 0x0000024473B10A90>, <remi_test3.Agent object at 0x0000024473B10040>, <remi_test3.Agent object at 0x0000024473B10220>, <remi_test3.Agent object at 0x0000024473B10310>, <remi_test3.Agent object at 0x0000024473B104F0>, <remi_test3.Agent object at 0x0000024473B107C0>, <remi_test3.Agent object at 0x0000024473B108B0>, <remi_test3.Agent object at 0x0000024473B109A0>, <remi_test3.Agent object at 0x0000024473B10A90>, <remi_test3.Agent object at 0x0000024473B106D0>, <remi_test3.Agent object at 0x0000024473B106D0>, <remi_test3.Agent object at 0x0000024473B106D0>, <remi_test3.Agent object at 0x0000024473B106D0>, <remi_test3.Agent object at 0x0000024473B106D0>]\n"
     ]
    }
   ],
   "source": [
    "import remi_test4\n",
    "\n",
    "env = remi_test4.env(num_good=20, num_adversaries=0, num_obstacles=0, num_food=0, max_cycles=5, num_forests=0,\n",
    "                     render_mode='human')\n",
    "env.reset()"
   ],
   "metadata": {
    "collapsed": false,
    "ExecuteTime": {
     "end_time": "2023-08-04T10:34:16.580162700Z",
     "start_time": "2023-08-04T10:34:15.205564700Z"
    }
   },
   "id": "74ccd2476b26f1f7"
  },
  {
   "cell_type": "code",
   "execution_count": 2,
   "outputs": [
    {
     "name": "stdout",
     "output_type": "stream",
     "text": [
      "----------step1----------\n",
      "----------step2----------\n",
      "----------step3----------\n",
      "----------step4----------\n",
      "----------step5----------\n",
      "----------step6----------\n"
     ]
    }
   ],
   "source": [
    "steps = 1\n",
    "for agent in env.agent_iter():\n",
    "    if steps % 20 == 0:\n",
    "        print(f'----------step{int(steps / 20)}----------')\n",
    "    observation, reward, termination, truncation, info = env.last()\n",
    "    if termination or truncation:\n",
    "        action = None\n",
    "    else:\n",
    "        action = env.action_space(agent).sample()\n",
    "    # this is where you would insert your policy\n",
    "    env.step(action)\n",
    "    steps += 1\n",
    "    for inf in info:\n",
    "        message_history = info[inf]\n",
    "env.close()"
   ],
   "metadata": {
    "collapsed": false,
    "ExecuteTime": {
     "end_time": "2023-08-04T10:34:19.801075500Z",
     "start_time": "2023-08-04T10:34:16.574953500Z"
    }
   },
   "id": "a35596c95fae41e0"
  },
  {
   "cell_type": "code",
   "execution_count": 3,
   "outputs": [
    {
     "data": {
      "text/plain": "      sender  receiver\n0    agent_0   agent_2\n0    agent_0   agent_8\n0    agent_1   agent_8\n0    agent_1   agent_9\n0    agent_1  agent_18\n..       ...       ...\n0   agent_18  agent_15\n0   agent_19  agent_17\n0   agent_19   agent_7\n0   agent_19   agent_0\n0   agent_19  agent_13\n\n[4839 rows x 2 columns]",
      "text/html": "<div>\n<style scoped>\n    .dataframe tbody tr th:only-of-type {\n        vertical-align: middle;\n    }\n\n    .dataframe tbody tr th {\n        vertical-align: top;\n    }\n\n    .dataframe thead th {\n        text-align: right;\n    }\n</style>\n<table border=\"1\" class=\"dataframe\">\n  <thead>\n    <tr style=\"text-align: right;\">\n      <th></th>\n      <th>sender</th>\n      <th>receiver</th>\n    </tr>\n  </thead>\n  <tbody>\n    <tr>\n      <th>0</th>\n      <td>agent_0</td>\n      <td>agent_2</td>\n    </tr>\n    <tr>\n      <th>0</th>\n      <td>agent_0</td>\n      <td>agent_8</td>\n    </tr>\n    <tr>\n      <th>0</th>\n      <td>agent_1</td>\n      <td>agent_8</td>\n    </tr>\n    <tr>\n      <th>0</th>\n      <td>agent_1</td>\n      <td>agent_9</td>\n    </tr>\n    <tr>\n      <th>0</th>\n      <td>agent_1</td>\n      <td>agent_18</td>\n    </tr>\n    <tr>\n      <th>...</th>\n      <td>...</td>\n      <td>...</td>\n    </tr>\n    <tr>\n      <th>0</th>\n      <td>agent_18</td>\n      <td>agent_15</td>\n    </tr>\n    <tr>\n      <th>0</th>\n      <td>agent_19</td>\n      <td>agent_17</td>\n    </tr>\n    <tr>\n      <th>0</th>\n      <td>agent_19</td>\n      <td>agent_7</td>\n    </tr>\n    <tr>\n      <th>0</th>\n      <td>agent_19</td>\n      <td>agent_0</td>\n    </tr>\n    <tr>\n      <th>0</th>\n      <td>agent_19</td>\n      <td>agent_13</td>\n    </tr>\n  </tbody>\n</table>\n<p>4839 rows × 2 columns</p>\n</div>"
     },
     "execution_count": 3,
     "metadata": {},
     "output_type": "execute_result"
    }
   ],
   "source": [
    "message_history.to_csv('message_history.csv', index=False)\n",
    "message_history"
   ],
   "metadata": {
    "collapsed": false,
    "ExecuteTime": {
     "end_time": "2023-08-04T10:34:19.828132300Z",
     "start_time": "2023-08-04T10:34:19.784721400Z"
    }
   },
   "id": "93cebddf7f01d650"
  },
  {
   "cell_type": "code",
   "execution_count": 4,
   "outputs": [],
   "source": [
    "context = open('message_history.csv', 'r').read().replace('sender,receiver\\n', '').replace(',', ';').replace('agent_',\n",
    "                                                                                                             '')\n",
    "\n",
    "# write the csv file\n",
    "with open('reformatted_message_history.txt', 'w') as f:\n",
    "    f.write(context)\n",
    "    f.close()"
   ],
   "metadata": {
    "collapsed": false,
    "ExecuteTime": {
     "end_time": "2023-08-04T10:34:19.906752Z",
     "start_time": "2023-08-04T10:34:19.826133300Z"
    }
   },
   "id": "7566a55cf11a8b38"
  }
 ],
 "metadata": {
  "kernelspec": {
   "display_name": "Python 3",
   "language": "python",
   "name": "python3"
  },
  "language_info": {
   "codemirror_mode": {
    "name": "ipython",
    "version": 2
   },
   "file_extension": ".py",
   "mimetype": "text/x-python",
   "name": "python",
   "nbconvert_exporter": "python",
   "pygments_lexer": "ipython2",
   "version": "2.7.6"
  }
 },
 "nbformat": 4,
 "nbformat_minor": 5
}
